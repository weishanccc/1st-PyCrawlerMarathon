{
 "cells": [
  {
   "cell_type": "markdown",
   "metadata": {},
   "source": [
    "# PTT 網路爬蟲實作練習\n",
    "\n",
    "\n",
    "* 能夠利用 Request + BeatifulSour 撰寫爬蟲，並存放到合適的資料結構\n"
   ]
  },
  {
   "cell_type": "markdown",
   "metadata": {},
   "source": [
    "## 作業目標\n",
    "\n",
    "根據範例 ，完成以下問題：\n",
    "\n",
    "* ① 印出最新文章的「作者」「標題」「時間」\n",
    "* ② 印出第一頁所有文章的「作者」「標題」「時間」\n"
   ]
  },
  {
   "cell_type": "markdown",
   "metadata": {},
   "source": [
    "### ① 印出最新文章的「作者」「標題」「時間」"
   ]
  },
  {
   "cell_type": "code",
   "execution_count": 21,
   "metadata": {},
   "outputs": [
    {
     "name": "stdout",
     "output_type": "stream",
     "text": [
      "作者: NSYSUheng (Pain)\n",
      "作者: [花邊] LBJ:火鍋對防守至關重要 不覺得它被低估\n",
      "時間: Mon Jan  6 22:29:49 2020\n"
     ]
    }
   ],
   "source": [
    "'''\n",
    "Your Code\n",
    "'''\n",
    "import requests\n",
    "from bs4 import BeautifulSoup\n",
    "\n",
    "url = 'https://www.ptt.cc/bbs/NBA/index.html'\n",
    "r = requests.get(url)\n",
    "soup = BeautifulSoup(r.text, \"html5lib\")\n",
    "\n",
    "inner_url = 'https://www.ptt.cc'+soup.find_all(class_=\"title\")[0].find('a')['href']\n",
    "r = requests.get(inner_url)\n",
    "first = BeautifulSoup(r.text, \"html5lib\")\n",
    "\n",
    "print('作者: ' + first.find_all(class_ = 'article-meta-value')[0].text)\n",
    "print('作者: ' + first.find_all(class_ = 'article-meta-value')[2].text)\n",
    "print('時間: ' + first.find_all(class_ = 'article-meta-value')[3].text)\n"
   ]
  },
  {
   "cell_type": "markdown",
   "metadata": {},
   "source": [
    "### ② 印出第一頁所有文章的「作者」「標題」「時間」"
   ]
  },
  {
   "cell_type": "code",
   "execution_count": null,
   "metadata": {},
   "outputs": [],
   "source": [
    "'''\n",
    "Your Code\n",
    "'''\n",
    "\n",
    "import requests\n",
    "from bs4 import BeautifulSoup\n",
    "\n",
    "url = 'https://www.ptt.cc/bbs/NBA/index.html'\n",
    "r = requests.get(url)\n",
    "\n",
    "soup = BeautifulSoup(r.text, \"html5lib\")\n",
    "\n",
    "for r in soup.find_all(class_=\"title\"):\n",
    "    info = BeautifulSoup(requests.get('https://www.ptt.cc' + r.find('a')['href']).text, \"html5lib\")\n",
    "    print('標題: '+ r.text.replace('\\t','').replace('\\n',''))\n",
    "    \n",
    "    try:\n",
    "        print('作者: ' + info.find_all(class_ = 'article-meta-value')[0].text)\n",
    "        print('時間: ' + info.find_all(class_ = 'article-meta-value')[3].text, '\\n')\n",
    "    except:\n",
    "        continue"
   ]
  },
  {
   "cell_type": "markdown",
   "metadata": {},
   "source": [
    "### ③ 試著爬爬看其他版的文章"
   ]
  },
  {
   "cell_type": "code",
   "execution_count": 25,
   "metadata": {},
   "outputs": [
    {
     "name": "stdout",
     "output_type": "stream",
     "text": [
      "標題: Re: [猜謎] 鐵達尼號的哥哥？\n",
      "作者: winnietslock (老皮)\n",
      "時間: Mon Jan  6 14:38:23 2020 \n",
      "\n",
      "標題: [趣事] 2020年新希望\n",
      "作者: MeterfromYou (幹幹)\n",
      "時間: Mon Jan  6 16:30:38 2020 \n",
      "\n",
      "標題: [ＸＤ] CBA／北區人氣王　林書豪明星賽球衣曝光\n",
      "作者: st210113 (會飛的豬不稀奇)\n",
      "時間: Mon Jan  6 17:54:02 2020 \n",
      "\n",
      "標題: Re: [ＸＤ] 要怎麼從李宗瑞變成郭富城？\n",
      "作者: ReiKuromiya (Rei Kuromiya)\n",
      "時間: Mon Jan  6 18:16:20 2020 \n",
      "\n",
      "標題: [耍冷] 經驗\n",
      "作者: krit1009 (肥龍公主)\n",
      "時間: Mon Jan  6 18:48:32 2020 \n",
      "\n",
      "標題: [趣事] 這是廣告在三小？\n",
      "作者: Meerie (Meerie＝Creepy!)\n",
      "時間: Mon Jan  6 19:13:15 2020 \n",
      "\n",
      "標題: [ＸＤ] 北京人突然想打砲\n",
      "作者: lonkeyhomgun (文字酒保阿槍)\n",
      "時間: Mon Jan  6 20:15:35 2020 \n",
      "\n",
      "標題: [趣事] 在信義區遇到外星人\n",
      "作者: elec1141 (木村拓哉)\n",
      "時間: Mon Jan  6 20:24:03 2020 \n",
      "\n",
      "標題: [影音] 破麻之夜\n",
      "作者: Fine29 (黑色幽默)\n",
      "時間: Mon Jan  6 20:31:07 2020 \n",
      "\n",
      "標題: [ＸＤ] 要怎麼讓一篇文章看起來很有人氣\n",
      "作者: FlynnZhang (●—●)\n",
      "時間: Mon Jan  6 20:58:04 2020 \n",
      "\n",
      "標題: [ＸＤ] 邏輯教授\n",
      "作者: Oskar (奧斯卡)\n",
      "時間: Mon Jan  6 22:16:59 2020 \n",
      "\n",
      "標題: [猜謎] 謝和弦在哭\n",
      "作者: EYECTV (眼球中央電視台)\n",
      "時間: Mon Jan  6 22:59:31 2020 \n",
      "\n",
      "標題: [猜謎] 哪個藝人最不遵守交通規則\n",
      "作者: Jasonbon ()\n",
      "時間: Mon Jan  6 23:02:55 2020 \n",
      "\n",
      "標題: [趣圖] \n",
      "作者: LAN030 (漂泊嵐)\n",
      "時間: Mon Jan  6 23:22:37 2020 \n",
      "\n",
      "標題: [公告] Joke板規2019.11.17\n",
      "作者: Elivanta (沉思鬼)\n",
      "時間: Mon Nov  4 20:57:14 2019 \n",
      "\n"
     ]
    }
   ],
   "source": [
    "'''\n",
    "Your Code\n",
    "'''\n",
    "\n",
    "import requests\n",
    "from bs4 import BeautifulSoup\n",
    "\n",
    "url_joke = 'https://www.ptt.cc/bbs/joke/index.html'\n",
    "j = requests.get(url_joke)\n",
    "soup_joke = BeautifulSoup(j.text, \"html5lib\")\n",
    "\n",
    "for j in soup_joke.find_all(class_=\"title\"):\n",
    "    info_joke = BeautifulSoup(requests.get('https://www.ptt.cc' + j.find('a')['href']).text, \"html5lib\")\n",
    "    print('標題: '+ j.text.replace('\\t','').replace('\\n',''))\n",
    "    \n",
    "    try:\n",
    "        print('作者: ' + info_joke.find_all(class_ = 'article-meta-value')[0].text)\n",
    "        print('時間: ' + info_joke.find_all(class_ = 'article-meta-value')[3].text, '\\n')\n",
    "    except:\n",
    "        continue"
   ]
  },
  {
   "cell_type": "code",
   "execution_count": null,
   "metadata": {},
   "outputs": [],
   "source": []
  }
 ],
 "metadata": {
  "kernelspec": {
   "display_name": "Python 3",
   "language": "python",
   "name": "python3"
  },
  "language_info": {
   "codemirror_mode": {
    "name": "ipython",
    "version": 3
   },
   "file_extension": ".py",
   "mimetype": "text/x-python",
   "name": "python",
   "nbconvert_exporter": "python",
   "pygments_lexer": "ipython3",
   "version": "3.7.4"
  }
 },
 "nbformat": 4,
 "nbformat_minor": 2
}
