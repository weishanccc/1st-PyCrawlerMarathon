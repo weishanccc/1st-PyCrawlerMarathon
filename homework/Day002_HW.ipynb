##import csv

spamReader = csv.Reader(open('example.csv'), delimiter = '', quotechar = '|')
for row in spamReader:
  print(','.join(row))
  
