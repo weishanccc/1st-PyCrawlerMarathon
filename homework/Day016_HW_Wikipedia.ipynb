{
 "cells": [
  {
   "cell_type": "markdown",
   "metadata": {},
   "source": [
    "# Wikipedia爬蟲練習\n",
    "## 範例：練習是從Wikipedia中爬取文章。先定義一個搜尋的關鍵字，擷取該關鍵字詞的文章。"
   ]
  },
  {
   "cell_type": "code",
   "execution_count": 24,
   "metadata": {},
   "outputs": [],
   "source": [
    "import requests\n",
    "import re\n",
    "from bs4 import BeautifulSoup"
   ]
  },
  {
   "cell_type": "markdown",
   "metadata": {},
   "source": [
    "### 先定義一個我們想搜尋的字詞，並將它轉換成UTF-8編碼後的URL"
   ]
  },
  {
   "cell_type": "code",
   "execution_count": 25,
   "metadata": {},
   "outputs": [
    {
     "name": "stdout",
     "output_type": "stream",
     "text": [
      "可爾必思: %E5%8F%AF%E7%88%BE%E5%BF%85%E6%80%9D\n",
      "/wiki/%E5%8F%AF%E7%88%BE%E5%BF%85%E6%80%9D\n"
     ]
    }
   ],
   "source": [
    "input_keyword = \"可爾必思\"  # 這裡可以自己定義有興趣的關鍵字\n",
    "\n",
    "utf8_url = repr(input_keyword.encode('UTF-8')).upper()  # 編碼成UTF-8並轉成大寫字元\n",
    "utf8_url = utf8_url.replace(\"\\\\X\", \"%\")                 # 用 '%' 取代 '\\X' \n",
    "print(\"%s: %s\" % (input_keyword, utf8_url[2:-1:1]))     # 擷取中間的編碼結果\n",
    "\n",
    "# 組成Wiki關鍵字搜尋的網址格式\n",
    "root_keyword_link = '/wiki/' + utf8_url[2:-1:1]\n",
    "print(root_keyword_link)"
   ]
  },
  {
   "cell_type": "markdown",
   "metadata": {},
   "source": [
    "### 範例1：送出關鍵字請求後，爬取該關鍵字的文章內容"
   ]
  },
  {
   "cell_type": "code",
   "execution_count": 26,
   "metadata": {},
   "outputs": [
    {
     "name": "stdout",
     "output_type": "stream",
     "text": [
      "可爾必思（カルピス）是一種乳酸菌飲料，為日本飲料製造商可爾必思株式會社的主要飲料產品。\n",
      "\n",
      "可爾必思株式會社位在東京都澀谷區，英文為Calpis Co., Ltd.，曾在1991年時加入味之素集團旗下，現為朝日飲料集團成員。可爾必思的名稱同時也是該公司的註冊商標。\n",
      "\n",
      "可爾必思企業的創業者為僧侶出身的三島海雲。創業初期當時為國分集團的成員。父母是山田耕筰與渡邊海旭（當時為芝學園的校長）。創業時以「初戀的味道」為宣傳，生產全世界第一瓶的乳酸菌飲料「可爾必思」。同時也生產脫脂牛奶和可爾必思奶油作為主力商品。\n",
      "\n",
      "在納入味之素旗下後，近年推出將可爾必思與水調和稀釋的飲料「可爾必思水語」（カルピスウォーター），並在日本進口礦泉水「evian」和葡萄酒，也發售雞尾酒「可爾必思沙瓦」（カルピスサワー）進入酒精飲料市場。\n",
      "\n",
      "此外該公司也有生產其他種類的飲料。\n",
      "\n",
      "由於Calpis的發音，在英語中近似「Cow piss」（牛的尿），為了避免讓顧客有不良的聯想，因此在英語國家中改用「CalPico」的名字銷售。\n",
      "\n",
      "1902年，年僅25歲的三島海雲造訪中國內蒙古，以當地的一種類似酸奶的飲料為基礎，於1919年開發出了可爾必思。三島也被傳授「公司發售的第一種飲料要與公司同名」的商業技巧。以脫脂牛奶發酵後成為的「酸乳」，在發酵過程中加入糖、馬奶酒類似的酵母菌，這些都是造成可爾必思獨特風味不可或缺的要素，同時也是企業長期以來的祕密，但在1990年中公開。\n",
      "\n",
      "公司名稱的由來是「鈣」（カルシウム、Calcium）加上梵語中的सर पिस「サルピス、salpis」（漢字翻譯為「熟酥」，第二種味道之意）組合而來。\n",
      "\n",
      "也曾有以梵語中「sarpir-manda」（日音：サルピル・マンダ，為醍醐、無上的味道之意）為基礎，用「サルピス」（音譯：薩爾必思）、「カルピル」（音譯：可爾必魯）當作公司名的提案，但公司中這方面的專家、同時也是音樂專家的山田耕筰認為還是「カルピス」作為名稱較佳也比較響亮，因此就成為公司和主力飲料的名字。\n",
      "\n",
      "原本的商標是「一名戴著巴拿馬草帽的黑人男性，正在用吸管喝著玻璃瓶中的可爾必思」的圖案。這是在第一次世界大戰後，為了幫助困苦的德國畫家，由社長三島海雲舉辦的「國際海報大獎」（国際懸賞ポスター典）中選出的第三名作品。但在1989年後被批評「有種族歧視思想」，因而更換成現在的商標。\n",
      "\n"
     ]
    }
   ],
   "source": [
    "# 模擬封包的標頭\n",
    "headers = {\n",
    "    'authority': 'zh.wikipedia.org',\n",
    "    'method': 'GET',\n",
    "    'path': '/wiki/' + root_keyword_link,\n",
    "    'scheme': 'https',\n",
    "    'accept': 'text/html,application/xhtml+xml,application/xml;q=0.9,image/webp,image/apng,*/*;q=0.8,application/signed-exchange;v=b3',\n",
    "    'accept-encoding': 'gzip, deflate, br',\n",
    "    'accept-language': 'zh-TW,zh;q=0.9,en-US;q=0.8,en;q=0.7,zh-CN;q=0.6',\n",
    "    'cookie': 'GeoIP=TW:TPE:Taipei:25.05:121.53:v4; TBLkisOn=0; mwPhp7Seed=8b8; WMF-Last-Access-Global=04-Jun-2019; WMF-Last-Access=04-Jun-2019',\n",
    "    'dnt': '1',\n",
    "    #'if-modified-since': 'Tue, 04 Jun 2019 12:03:22 GMT',\n",
    "    'referer': 'https://zh.wikipedia.org/wiki/Wikipedia:%E9%A6%96%E9%A1%B5',\n",
    "    'upgrade-insecure-requests': '1',\n",
    "    'user-agent': 'Mozilla/5.0 (Windows NT 10.0; Win64; x64) AppleWebKit/537.36 (KHTML, like Gecko) Chrome/74.0.3729.169 Safari/537.36'\n",
    "}    \n",
    "\n",
    "url = 'https://zh.wikipedia.org' + root_keyword_link  # 組合關鍵字查詢URL\n",
    "resp = requests.get(url, headers=headers)\n",
    "resp.encoding = 'utf-8'\n",
    "\n",
    "html = BeautifulSoup(resp.text, \"lxml\")\n",
    "content = html.find(name='div', attrs={'id':'mw-content-text'}).find_all(name='p')\n",
    "\n",
    "#\n",
    "# 解析回傳資料，並萃取文章內容\n",
    "#\n",
    "for paragraph in content:\n",
    "    print(paragraph.get_text())\n"
   ]
  },
  {
   "cell_type": "markdown",
   "metadata": {},
   "source": [
    "### 範例2：從爬取的文章內容中，擷取出有外部連結的關鍵字。這些關鍵字在文章中是以藍色字體顯示，會連到外部的網頁，並解釋其內容。"
   ]
  },
  {
   "cell_type": "code",
   "execution_count": 27,
   "metadata": {
    "collapsed": true
   },
   "outputs": [
    {
     "name": "stdout",
     "output_type": "stream",
     "text": [
      "外部連結: [乳酸菌] /wiki/%E4%B9%B3%E9%85%B8%E8%8F%8C\n",
      "外部連結: [飲料] /wiki/%E9%A3%B2%E6%96%99\n",
      "外部連結: [日本] /wiki/%E6%97%A5%E6%9C%AC\n",
      "外部連結: [東京都] /wiki/%E6%9D%B1%E4%BA%AC%E9%83%BD\n",
      "外部連結: [澀谷區] /wiki/%E6%BE%80%E8%B0%B7%E5%8D%80\n",
      "外部連結: [味之素] /wiki/%E5%91%B3%E4%B9%8B%E7%B4%A0\n",
      "外部連結: [朝日飲料] /wiki/%E6%9C%9D%E6%97%A5%E5%95%A4%E9%85%92\n",
      "外部連結: [註冊商標] /wiki/%E6%B3%A8%E5%86%8C%E5%95%86%E6%A0%87\n",
      "外部連結: [僧侶] /wiki/%E5%83%A7%E4%BE%B6\n",
      "外部連結: [脫脂牛奶] /wiki/%E8%84%B1%E8%84%82%E7%89%9B%E5%A5%B6\n",
      "外部連結: [日本] /wiki/%E6%97%A5%E6%9C%AC\n",
      "外部連結: [礦泉水] /wiki/%E7%A4%A6%E6%B3%89%E6%B0%B4\n",
      "外部連結: [葡萄酒] /wiki/%E8%91%A1%E8%90%84%E9%85%92\n",
      "外部連結: [雞尾酒] /wiki/%E9%9B%9E%E5%B0%BE%E9%85%92\n",
      "外部連結: [沙瓦] /wiki/%E6%B2%99%E7%93%A6\n",
      "外部連結: [酒精飲料] /wiki/%E9%85%92%E7%B2%BE%E9%A3%B2%E6%96%99\n",
      "外部連結: [中國] /wiki/%E4%B8%AD%E5%9C%8B\n",
      "外部連結: [內蒙古] /wiki/%E5%85%A7%E8%92%99%E5%8F%A4\n",
      "外部連結: [酸奶] /wiki/%E9%85%B8%E5%A5%B6\n",
      "外部連結: [發酵] /wiki/%E7%99%BC%E9%85%B5\n",
      "外部連結: [糖] /wiki/%E7%B3%96\n",
      "外部連結: [馬奶酒] /wiki/%E9%A6%AC%E5%A5%B6%E9%85%92\n",
      "外部連結: [酵母菌] /wiki/%E9%85%B5%E6%AF%8D%E8%8F%8C\n",
      "外部連結: [鈣] /wiki/%E9%88%A3\n",
      "外部連結: [梵語] /wiki/%E6%A2%B5%E8%AA%9E\n",
      "外部連結: [醍醐] /wiki/%E9%86%8D%E9%86%90\n",
      "外部連結: [黑人] /wiki/%E9%BB%91%E4%BA%BA\n",
      "外部連結: [第一次世界大戰] /wiki/%E7%AC%AC%E4%B8%80%E6%AC%A1%E4%B8%96%E7%95%8C%E5%A4%A7%E6%88%B0\n",
      "外部連結: [德國] /wiki/%E5%BE%B7%E5%9C%8B\n",
      "外部連結: [畫家] /wiki/%E7%95%AB%E5%AE%B6\n",
      "外部連結: [種族歧視] /wiki/%E7%A8%AE%E6%97%8F%E6%AD%A7%E8%A6%96\n"
     ]
    }
   ],
   "source": [
    "for ext_link in content:\n",
    "    a_tag = ext_link.find_all('a', href=re.compile(\"^(/wiki/)((?!;)\\S)*$\"))\n",
    "    if len(a_tag) > 0:\n",
    "        for link_string in a_tag:\n",
    "            a_link = link_string[\"href\"]       # 外部連結的網址\n",
    "            a_keyword = link_string.get_text()  # 外部連結的中文名稱\n",
    "            print(\"外部連結: [%s] %s\" % (a_keyword, a_link))"
   ]
  },
  {
   "cell_type": "markdown",
   "metadata": {},
   "source": [
    "## 作業：接下來定義一個爬蟲函數，這個函數的主要工作為：\n",
    "### (1) 爬取當前關鍵字的解釋，並存入檔案(因為文章內容太多會佔滿整個頁面，所以存程檔案，方便後續檢視)\n",
    "### (2) 萃取出當前關鍵字所引用的外部連結，當作新的查詢關鍵字\n",
    "### (3) 把第(2)擷取到的關鍵字當作新的關鍵字，回到第(1)步，爬取新的關鍵字解釋。"
   ]
  },
  {
   "cell_type": "code",
   "execution_count": 32,
   "metadata": {},
   "outputs": [],
   "source": [
    "def WikiArticle(key_word_link, key_word, recursive):\n",
    "    \n",
    "    if (recursive <= max_recursive_depth):\n",
    "        print(\"遞迴層[%d] - %s (%s)\" % (recursive, key_word_link, key_word))\n",
    "        \n",
    "        # 模擬封包的標頭\n",
    "        headers = {\n",
    "            'authority': 'zh.wikipedia.org',\n",
    "            'method': 'GET',\n",
    "            'path': '/wiki/' + key_word_link,\n",
    "            'scheme': 'https',\n",
    "            'accept': 'text/html,application/xhtml+xml,application/xml;q=0.9,image/webp,image/apng,*/*;q=0.8,application/signed-exchange;v=b3',\n",
    "            'accept-encoding': 'gzip, deflate, br',\n",
    "            'accept-language': 'zh-TW,zh;q=0.9,en-US;q=0.8,en;q=0.7,zh-CN;q=0.6',\n",
    "            'cookie': 'GeoIP=TW:TPE:Taipei:25.05:121.53:v4; TBLkisOn=0; mwPhp7Seed=8b8; WMF-Last-Access-Global=04-Jun-2019; WMF-Last-Access=04-Jun-2019',\n",
    "            'dnt': '1',\n",
    "            #'if-modified-since': 'Tue, 04 Jun 2019 12:03:22 GMT',\n",
    "            'referer': 'https://zh.wikipedia.org/wiki/Wikipedia:%E9%A6%96%E9%A1%B5',\n",
    "            'upgrade-insecure-requests': '1',\n",
    "            'user-agent': 'Mozilla/5.0 (Windows NT 10.0; Win64; x64) AppleWebKit/537.36 (KHTML, like Gecko) Chrome/74.0.3729.169 Safari/537.36'\n",
    "        }    \n",
    "\n",
    "        url = 'https://zh.wikipedia.org' + key_word_link  # 組合關鍵字查詢URL\n",
    "        resp = requests.get(url, headers=headers)\n",
    "        resp.encoding = 'utf-8'\n",
    "\n",
    "        html = BeautifulSoup(resp.text, \"lxml\")\n",
    "        content = html.find(name='div', attrs={'id':'mw-content-text'}).find_all(name = 'p')\n",
    "        \n",
    "        #\n",
    "        # Part 1: 請參考範例1，爬取當前關鍵字的文章內容。\n",
    "        #         因為內容太多，我們把它寫入檔案，並以關鍵字作為檔案名稱，以便稍後查閱內容。\n",
    "        #         請先建立一個名為\"WikiArticle\"的資料夾，爬取到的文章內容會放在這個資料夾底下。\n",
    "        #\n",
    "        \n",
    "        for paragraph in content:\n",
    "            file_savename = key_word.replace('/', '_')\n",
    "            f = open(\"WikiArticle/\" + file_savename, \"a+\", encoding = 'utf-8')\n",
    "            f.write(str(paragraph.get_text()) + \"\\n\")\n",
    "            f.close()\n",
    "\n",
    "        #\n",
    "        # Part 2: 請參考範例2，萃取出本篇文章中所延伸引用的外部連結，並儲存在external_link_dict\n",
    "        #\n",
    "        \n",
    "        external_link_dict = dict({})\n",
    "        \n",
    "        for ext_link in content:\n",
    "            a_tag = ext_link.find_all('a', href=re.compile(\"^(/wiki/)((?!;)\\S)*$\"))\n",
    "            if len(a_tag) > 0:\n",
    "                for link_string in a_tag:\n",
    "                    a_link = link_string[\"href\"]       # 外部連結的網址\n",
    "                    a_keyword = link_string.get_text()  # 外部連結的中文名稱\n",
    "                    print(\"外部連結: [%s] %s\" % (a_keyword, a_link))\n",
    "\n",
    "                    \n",
    "        #\n",
    "        # Part 3: 將Part 2所收集的外部連結，當作新的關鍵字，繼續迭代深入爬蟲\n",
    "        #\n",
    "        if (len(external_link_dict) > 0):\n",
    "            recursive = recursive + 1  # 遞迴深度加1\n",
    "            \n",
    "            for k, v in external_link_dict.items():\n",
    "                WikiArticle(k, v, recursive)  # 再次呼叫同樣的函數，執行同樣的流程\n",
    "                "
   ]
  },
  {
   "cell_type": "markdown",
   "metadata": {},
   "source": [
    "### 執行前個步驟定義好的爬蟲主程式"
   ]
  },
  {
   "cell_type": "code",
   "execution_count": 33,
   "metadata": {},
   "outputs": [
    {
     "name": "stdout",
     "output_type": "stream",
     "text": [
      "遞迴層[0] - /wiki/%E5%8F%AF%E7%88%BE%E5%BF%85%E6%80%9D (可爾必思)\n",
      "外部連結: [乳酸菌] /wiki/%E4%B9%B3%E9%85%B8%E8%8F%8C\n",
      "外部連結: [飲料] /wiki/%E9%A3%B2%E6%96%99\n",
      "外部連結: [日本] /wiki/%E6%97%A5%E6%9C%AC\n",
      "外部連結: [東京都] /wiki/%E6%9D%B1%E4%BA%AC%E9%83%BD\n",
      "外部連結: [澀谷區] /wiki/%E6%BE%80%E8%B0%B7%E5%8D%80\n",
      "外部連結: [味之素] /wiki/%E5%91%B3%E4%B9%8B%E7%B4%A0\n",
      "外部連結: [朝日飲料] /wiki/%E6%9C%9D%E6%97%A5%E5%95%A4%E9%85%92\n",
      "外部連結: [註冊商標] /wiki/%E6%B3%A8%E5%86%8C%E5%95%86%E6%A0%87\n",
      "外部連結: [僧侶] /wiki/%E5%83%A7%E4%BE%B6\n",
      "外部連結: [脫脂牛奶] /wiki/%E8%84%B1%E8%84%82%E7%89%9B%E5%A5%B6\n",
      "外部連結: [日本] /wiki/%E6%97%A5%E6%9C%AC\n",
      "外部連結: [礦泉水] /wiki/%E7%A4%A6%E6%B3%89%E6%B0%B4\n",
      "外部連結: [葡萄酒] /wiki/%E8%91%A1%E8%90%84%E9%85%92\n",
      "外部連結: [雞尾酒] /wiki/%E9%9B%9E%E5%B0%BE%E9%85%92\n",
      "外部連結: [沙瓦] /wiki/%E6%B2%99%E7%93%A6\n",
      "外部連結: [酒精飲料] /wiki/%E9%85%92%E7%B2%BE%E9%A3%B2%E6%96%99\n",
      "外部連結: [中國] /wiki/%E4%B8%AD%E5%9C%8B\n",
      "外部連結: [內蒙古] /wiki/%E5%85%A7%E8%92%99%E5%8F%A4\n",
      "外部連結: [酸奶] /wiki/%E9%85%B8%E5%A5%B6\n",
      "外部連結: [發酵] /wiki/%E7%99%BC%E9%85%B5\n",
      "外部連結: [糖] /wiki/%E7%B3%96\n",
      "外部連結: [馬奶酒] /wiki/%E9%A6%AC%E5%A5%B6%E9%85%92\n",
      "外部連結: [酵母菌] /wiki/%E9%85%B5%E6%AF%8D%E8%8F%8C\n",
      "外部連結: [鈣] /wiki/%E9%88%A3\n",
      "外部連結: [梵語] /wiki/%E6%A2%B5%E8%AA%9E\n",
      "外部連結: [醍醐] /wiki/%E9%86%8D%E9%86%90\n",
      "外部連結: [黑人] /wiki/%E9%BB%91%E4%BA%BA\n",
      "外部連結: [第一次世界大戰] /wiki/%E7%AC%AC%E4%B8%80%E6%AC%A1%E4%B8%96%E7%95%8C%E5%A4%A7%E6%88%B0\n",
      "外部連結: [德國] /wiki/%E5%BE%B7%E5%9C%8B\n",
      "外部連結: [畫家] /wiki/%E7%95%AB%E5%AE%B6\n",
      "外部連結: [種族歧視] /wiki/%E7%A8%AE%E6%97%8F%E6%AD%A7%E8%A6%96\n"
     ]
    }
   ],
   "source": [
    "# 定義爬取的遞迴深度。深度不要訂太深，否則會爬很久。\n",
    "max_recursive_depth = 2\n",
    "\n",
    "WikiArticle(root_keyword_link, input_keyword, 0)"
   ]
  },
  {
   "cell_type": "code",
   "execution_count": null,
   "metadata": {},
   "outputs": [],
   "source": []
  }
 ],
 "metadata": {
  "kernelspec": {
   "display_name": "Python 3",
   "language": "python",
   "name": "python3"
  },
  "language_info": {
   "codemirror_mode": {
    "name": "ipython",
    "version": 3
   },
   "file_extension": ".py",
   "mimetype": "text/x-python",
   "name": "python",
   "nbconvert_exporter": "python",
   "pygments_lexer": "ipython3",
   "version": "3.7.4"
  }
 },
 "nbformat": 4,
 "nbformat_minor": 2
}
